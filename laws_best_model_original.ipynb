{
  "nbformat": 4,
  "nbformat_minor": 0,
  "metadata": {
    "colab": {
      "name": "laws_best_model_original.ipynb",
      "provenance": [],
      "collapsed_sections": []
    },
    "kernelspec": {
      "name": "python3",
      "display_name": "Python 3"
    },
    "language_info": {
      "name": "python"
    },
    "widgets": {
      "application/vnd.jupyter.widget-state+json": {
        "78f4cc194e564297b33c887f76bbf6f6": {
          "model_module": "@jupyter-widgets/controls",
          "model_name": "HBoxModel",
          "model_module_version": "1.5.0",
          "state": {
            "_view_name": "HBoxView",
            "_dom_classes": [],
            "_model_name": "HBoxModel",
            "_view_module": "@jupyter-widgets/controls",
            "_model_module_version": "1.5.0",
            "_view_count": null,
            "_view_module_version": "1.5.0",
            "box_style": "",
            "layout": "IPY_MODEL_da31f467cda34ff8a407ad73cf0e3726",
            "_model_module": "@jupyter-widgets/controls",
            "children": [
              "IPY_MODEL_5bd1eecb627143a3b8684d64f7c25c3e",
              "IPY_MODEL_c78aeb21c9844df4ba1f7d5e86bf31b4",
              "IPY_MODEL_2d6391f0146a48c98eb599261264a6e9"
            ]
          }
        },
        "da31f467cda34ff8a407ad73cf0e3726": {
          "model_module": "@jupyter-widgets/base",
          "model_name": "LayoutModel",
          "model_module_version": "1.2.0",
          "state": {
            "_view_name": "LayoutView",
            "grid_template_rows": null,
            "right": null,
            "justify_content": null,
            "_view_module": "@jupyter-widgets/base",
            "overflow": null,
            "_model_module_version": "1.2.0",
            "_view_count": null,
            "flex_flow": null,
            "width": null,
            "min_width": null,
            "border": null,
            "align_items": null,
            "bottom": null,
            "_model_module": "@jupyter-widgets/base",
            "top": null,
            "grid_column": null,
            "overflow_y": null,
            "overflow_x": null,
            "grid_auto_flow": null,
            "grid_area": null,
            "grid_template_columns": null,
            "flex": null,
            "_model_name": "LayoutModel",
            "justify_items": null,
            "grid_row": null,
            "max_height": null,
            "align_content": null,
            "visibility": null,
            "align_self": null,
            "height": null,
            "min_height": null,
            "padding": null,
            "grid_auto_rows": null,
            "grid_gap": null,
            "max_width": null,
            "order": null,
            "_view_module_version": "1.2.0",
            "grid_template_areas": null,
            "object_position": null,
            "object_fit": null,
            "grid_auto_columns": null,
            "margin": null,
            "display": null,
            "left": null
          }
        },
        "5bd1eecb627143a3b8684d64f7c25c3e": {
          "model_module": "@jupyter-widgets/controls",
          "model_name": "HTMLModel",
          "model_module_version": "1.5.0",
          "state": {
            "_view_name": "HTMLView",
            "style": "IPY_MODEL_2300a82886f54c778916f963875f6e2d",
            "_dom_classes": [],
            "description": "",
            "_model_name": "HTMLModel",
            "placeholder": "​",
            "_view_module": "@jupyter-widgets/controls",
            "_model_module_version": "1.5.0",
            "value": "100%",
            "_view_count": null,
            "_view_module_version": "1.5.0",
            "description_tooltip": null,
            "_model_module": "@jupyter-widgets/controls",
            "layout": "IPY_MODEL_f570501fe65f4019a0ea79e17133731d"
          }
        },
        "c78aeb21c9844df4ba1f7d5e86bf31b4": {
          "model_module": "@jupyter-widgets/controls",
          "model_name": "FloatProgressModel",
          "model_module_version": "1.5.0",
          "state": {
            "_view_name": "ProgressView",
            "style": "IPY_MODEL_7c5d6529a67e4e8f9d299146f0e83086",
            "_dom_classes": [],
            "description": "",
            "_model_name": "FloatProgressModel",
            "bar_style": "success",
            "max": 16,
            "_view_module": "@jupyter-widgets/controls",
            "_model_module_version": "1.5.0",
            "value": 16,
            "_view_count": null,
            "_view_module_version": "1.5.0",
            "orientation": "horizontal",
            "min": 0,
            "description_tooltip": null,
            "_model_module": "@jupyter-widgets/controls",
            "layout": "IPY_MODEL_9c15287dd57747478140386678119a7a"
          }
        },
        "2d6391f0146a48c98eb599261264a6e9": {
          "model_module": "@jupyter-widgets/controls",
          "model_name": "HTMLModel",
          "model_module_version": "1.5.0",
          "state": {
            "_view_name": "HTMLView",
            "style": "IPY_MODEL_bbd24e44d84d46e486eb966b0eacfab3",
            "_dom_classes": [],
            "description": "",
            "_model_name": "HTMLModel",
            "placeholder": "​",
            "_view_module": "@jupyter-widgets/controls",
            "_model_module_version": "1.5.0",
            "value": " 16/16 [00:21&lt;00:00,  1.22s/it]",
            "_view_count": null,
            "_view_module_version": "1.5.0",
            "description_tooltip": null,
            "_model_module": "@jupyter-widgets/controls",
            "layout": "IPY_MODEL_aa2b0c9e8d59425181e15867440f813b"
          }
        },
        "2300a82886f54c778916f963875f6e2d": {
          "model_module": "@jupyter-widgets/controls",
          "model_name": "DescriptionStyleModel",
          "model_module_version": "1.5.0",
          "state": {
            "_view_name": "StyleView",
            "_model_name": "DescriptionStyleModel",
            "description_width": "",
            "_view_module": "@jupyter-widgets/base",
            "_model_module_version": "1.5.0",
            "_view_count": null,
            "_view_module_version": "1.2.0",
            "_model_module": "@jupyter-widgets/controls"
          }
        },
        "f570501fe65f4019a0ea79e17133731d": {
          "model_module": "@jupyter-widgets/base",
          "model_name": "LayoutModel",
          "model_module_version": "1.2.0",
          "state": {
            "_view_name": "LayoutView",
            "grid_template_rows": null,
            "right": null,
            "justify_content": null,
            "_view_module": "@jupyter-widgets/base",
            "overflow": null,
            "_model_module_version": "1.2.0",
            "_view_count": null,
            "flex_flow": null,
            "width": null,
            "min_width": null,
            "border": null,
            "align_items": null,
            "bottom": null,
            "_model_module": "@jupyter-widgets/base",
            "top": null,
            "grid_column": null,
            "overflow_y": null,
            "overflow_x": null,
            "grid_auto_flow": null,
            "grid_area": null,
            "grid_template_columns": null,
            "flex": null,
            "_model_name": "LayoutModel",
            "justify_items": null,
            "grid_row": null,
            "max_height": null,
            "align_content": null,
            "visibility": null,
            "align_self": null,
            "height": null,
            "min_height": null,
            "padding": null,
            "grid_auto_rows": null,
            "grid_gap": null,
            "max_width": null,
            "order": null,
            "_view_module_version": "1.2.0",
            "grid_template_areas": null,
            "object_position": null,
            "object_fit": null,
            "grid_auto_columns": null,
            "margin": null,
            "display": null,
            "left": null
          }
        },
        "7c5d6529a67e4e8f9d299146f0e83086": {
          "model_module": "@jupyter-widgets/controls",
          "model_name": "ProgressStyleModel",
          "model_module_version": "1.5.0",
          "state": {
            "_view_name": "StyleView",
            "_model_name": "ProgressStyleModel",
            "description_width": "",
            "_view_module": "@jupyter-widgets/base",
            "_model_module_version": "1.5.0",
            "_view_count": null,
            "_view_module_version": "1.2.0",
            "bar_color": null,
            "_model_module": "@jupyter-widgets/controls"
          }
        },
        "9c15287dd57747478140386678119a7a": {
          "model_module": "@jupyter-widgets/base",
          "model_name": "LayoutModel",
          "model_module_version": "1.2.0",
          "state": {
            "_view_name": "LayoutView",
            "grid_template_rows": null,
            "right": null,
            "justify_content": null,
            "_view_module": "@jupyter-widgets/base",
            "overflow": null,
            "_model_module_version": "1.2.0",
            "_view_count": null,
            "flex_flow": null,
            "width": null,
            "min_width": null,
            "border": null,
            "align_items": null,
            "bottom": null,
            "_model_module": "@jupyter-widgets/base",
            "top": null,
            "grid_column": null,
            "overflow_y": null,
            "overflow_x": null,
            "grid_auto_flow": null,
            "grid_area": null,
            "grid_template_columns": null,
            "flex": null,
            "_model_name": "LayoutModel",
            "justify_items": null,
            "grid_row": null,
            "max_height": null,
            "align_content": null,
            "visibility": null,
            "align_self": null,
            "height": null,
            "min_height": null,
            "padding": null,
            "grid_auto_rows": null,
            "grid_gap": null,
            "max_width": null,
            "order": null,
            "_view_module_version": "1.2.0",
            "grid_template_areas": null,
            "object_position": null,
            "object_fit": null,
            "grid_auto_columns": null,
            "margin": null,
            "display": null,
            "left": null
          }
        },
        "bbd24e44d84d46e486eb966b0eacfab3": {
          "model_module": "@jupyter-widgets/controls",
          "model_name": "DescriptionStyleModel",
          "model_module_version": "1.5.0",
          "state": {
            "_view_name": "StyleView",
            "_model_name": "DescriptionStyleModel",
            "description_width": "",
            "_view_module": "@jupyter-widgets/base",
            "_model_module_version": "1.5.0",
            "_view_count": null,
            "_view_module_version": "1.2.0",
            "_model_module": "@jupyter-widgets/controls"
          }
        },
        "aa2b0c9e8d59425181e15867440f813b": {
          "model_module": "@jupyter-widgets/base",
          "model_name": "LayoutModel",
          "model_module_version": "1.2.0",
          "state": {
            "_view_name": "LayoutView",
            "grid_template_rows": null,
            "right": null,
            "justify_content": null,
            "_view_module": "@jupyter-widgets/base",
            "overflow": null,
            "_model_module_version": "1.2.0",
            "_view_count": null,
            "flex_flow": null,
            "width": null,
            "min_width": null,
            "border": null,
            "align_items": null,
            "bottom": null,
            "_model_module": "@jupyter-widgets/base",
            "top": null,
            "grid_column": null,
            "overflow_y": null,
            "overflow_x": null,
            "grid_auto_flow": null,
            "grid_area": null,
            "grid_template_columns": null,
            "flex": null,
            "_model_name": "LayoutModel",
            "justify_items": null,
            "grid_row": null,
            "max_height": null,
            "align_content": null,
            "visibility": null,
            "align_self": null,
            "height": null,
            "min_height": null,
            "padding": null,
            "grid_auto_rows": null,
            "grid_gap": null,
            "max_width": null,
            "order": null,
            "_view_module_version": "1.2.0",
            "grid_template_areas": null,
            "object_position": null,
            "object_fit": null,
            "grid_auto_columns": null,
            "margin": null,
            "display": null,
            "left": null
          }
        }
      }
    }
  },
  "cells": [
    {
      "cell_type": "code",
      "metadata": {
        "colab": {
          "base_uri": "https://localhost:8080/"
        },
        "id": "OA4sxPKEqltI",
        "outputId": "764760e1-c37b-487e-95f1-d739b1b87913"
      },
      "source": [
        "from google.colab import drive\n",
        "drive.mount('/content/drive')"
      ],
      "execution_count": 1,
      "outputs": [
        {
          "output_type": "stream",
          "name": "stdout",
          "text": [
            "Mounted at /content/drive\n"
          ]
        }
      ]
    },
    {
      "cell_type": "code",
      "metadata": {
        "id": "WvUHyEHhq7kC"
      },
      "source": [
        "import pandas as pd\n",
        "from tqdm import tqdm_notebook"
      ],
      "execution_count": 2,
      "outputs": []
    },
    {
      "cell_type": "code",
      "metadata": {
        "colab": {
          "base_uri": "https://localhost:8080/"
        },
        "id": "9hB8jfHCrG41",
        "outputId": "bb23808f-b73b-4ce4-a19b-a079c125bc98"
      },
      "source": [
        "!ls drive/MyDrive/data/laws/ria_reports/ria_reports"
      ],
      "execution_count": 3,
      "outputs": [
        {
          "output_type": "stream",
          "name": "stdout",
          "text": [
            "regulations.csv\t\t\t      ria_reports_kpi.csv\n",
            "ria_reports_business_profit_loss.csv  ria_reports_main.csv\n",
            "ria_reports_business_sizes_as_is.csv  ria_reports_necessary_measures.csv\n",
            "ria_reports_business_sizes_to_be.csv  ria_reports_new_functions.csv\n",
            "ria_reports_cancel_duties.csv\t      ria_reports_notification_info.csv\n",
            "ria_reports_expenses.csv\t      ria_reports_public_discussion.csv\n",
            "ria_reports_goals.csv\t\t      ria_reports_risks.csv\n",
            "ria_reports_group_changes.csv\t      sample_submission.csv\n",
            "ria_reports_group_expenses.csv\t      train_answer.csv\n",
            "ria_reports_groups.csv\n"
          ]
        }
      ]
    },
    {
      "cell_type": "code",
      "metadata": {
        "id": "oJ20xmF7rIkr"
      },
      "source": [
        "reg = pd.read_csv(\"drive/MyDrive/data/laws/regulations.csv\")\n",
        "target = pd.read_csv(\"drive/MyDrive/data/laws/train_answer.csv\")"
      ],
      "execution_count": 4,
      "outputs": []
    },
    {
      "cell_type": "code",
      "metadata": {
        "id": "nVOF2NEorK5C"
      },
      "source": [
        "#cleansing\n",
        "reg = reg[reg['act_title'] != \"Проект удален\"]\n",
        "reg = reg.dropna(subset=['act_title'])"
      ],
      "execution_count": 5,
      "outputs": []
    },
    {
      "cell_type": "code",
      "metadata": {
        "colab": {
          "base_uri": "https://localhost:8080/"
        },
        "id": "A0YLpeiFrT2H",
        "outputId": "dc40b15a-671a-41ed-ff0c-7eaf421069c0"
      },
      "source": [
        "import os\n",
        "for dirname, _, filenames in os.walk('drive/MyDrive/data/laws/ria_reports/ria_reports'):\n",
        "    for filename in filenames:\n",
        "        print(os.path.join(dirname, filename))"
      ],
      "execution_count": 6,
      "outputs": [
        {
          "output_type": "stream",
          "name": "stdout",
          "text": [
            "drive/MyDrive/data/laws/ria_reports/ria_reports/ria_reports_business_profit_loss.csv\n",
            "drive/MyDrive/data/laws/ria_reports/ria_reports/ria_reports_business_sizes_as_is.csv\n",
            "drive/MyDrive/data/laws/ria_reports/ria_reports/ria_reports_business_sizes_to_be.csv\n",
            "drive/MyDrive/data/laws/ria_reports/ria_reports/ria_reports_cancel_duties.csv\n",
            "drive/MyDrive/data/laws/ria_reports/ria_reports/ria_reports_expenses.csv\n",
            "drive/MyDrive/data/laws/ria_reports/ria_reports/ria_reports_groups.csv\n",
            "drive/MyDrive/data/laws/ria_reports/ria_reports/ria_reports_kpi.csv\n",
            "drive/MyDrive/data/laws/ria_reports/ria_reports/ria_reports_main.csv\n",
            "drive/MyDrive/data/laws/ria_reports/ria_reports/ria_reports_group_changes.csv\n",
            "drive/MyDrive/data/laws/ria_reports/ria_reports/ria_reports_goals.csv\n",
            "drive/MyDrive/data/laws/ria_reports/ria_reports/ria_reports_group_expenses.csv\n",
            "drive/MyDrive/data/laws/ria_reports/ria_reports/ria_reports_new_functions.csv\n",
            "drive/MyDrive/data/laws/ria_reports/ria_reports/ria_reports_public_discussion.csv\n",
            "drive/MyDrive/data/laws/ria_reports/ria_reports/ria_reports_necessary_measures.csv\n",
            "drive/MyDrive/data/laws/ria_reports/ria_reports/ria_reports_risks.csv\n",
            "drive/MyDrive/data/laws/ria_reports/ria_reports/ria_reports_notification_info.csv\n",
            "drive/MyDrive/data/laws/ria_reports/ria_reports/regulations.csv\n",
            "drive/MyDrive/data/laws/ria_reports/ria_reports/train_answer.csv\n",
            "drive/MyDrive/data/laws/ria_reports/ria_reports/sample_submission.csv\n"
          ]
        }
      ]
    },
    {
      "cell_type": "code",
      "metadata": {
        "colab": {
          "base_uri": "https://localhost:8080/",
          "height": 100,
          "referenced_widgets": [
            "78f4cc194e564297b33c887f76bbf6f6",
            "da31f467cda34ff8a407ad73cf0e3726",
            "5bd1eecb627143a3b8684d64f7c25c3e",
            "c78aeb21c9844df4ba1f7d5e86bf31b4",
            "2d6391f0146a48c98eb599261264a6e9",
            "2300a82886f54c778916f963875f6e2d",
            "f570501fe65f4019a0ea79e17133731d",
            "7c5d6529a67e4e8f9d299146f0e83086",
            "9c15287dd57747478140386678119a7a",
            "bbd24e44d84d46e486eb966b0eacfab3",
            "aa2b0c9e8d59425181e15867440f813b"
          ]
        },
        "id": "fi4ZW-TGrUni",
        "outputId": "2fec4f50-590c-4aa2-c227-cffddb5b49d1"
      },
      "source": [
        "import glob\n",
        "\n",
        "for report_path in tqdm_notebook(glob.glob('drive/MyDrive/data/laws/ria_reports/ria_reports/ria_reports_*.csv*')):\n",
        "    report = pd.read_csv(report_path, sep=';')\n",
        "    reg = reg.join(report.drop_duplicates(subset=['regulation_project_id']).set_index('regulation_project_id'), on = 'id', lsuffix='_l', rsuffix='_r')"
      ],
      "execution_count": 7,
      "outputs": [
        {
          "output_type": "stream",
          "name": "stderr",
          "text": [
            "/usr/local/lib/python3.7/dist-packages/ipykernel_launcher.py:3: TqdmDeprecationWarning: This function will be removed in tqdm==5.0.0\n",
            "Please use `tqdm.notebook.tqdm` instead of `tqdm.tqdm_notebook`\n",
            "  This is separate from the ipykernel package so we can avoid doing imports until\n"
          ]
        },
        {
          "output_type": "display_data",
          "data": {
            "application/vnd.jupyter.widget-view+json": {
              "model_id": "78f4cc194e564297b33c887f76bbf6f6",
              "version_minor": 0,
              "version_major": 2
            },
            "text/plain": [
              "  0%|          | 0/16 [00:00<?, ?it/s]"
            ]
          },
          "metadata": {}
        }
      ]
    },
    {
      "cell_type": "code",
      "metadata": {
        "id": "H02wdcU2rXqF"
      },
      "source": [
        "#cleansing\n",
        "for i, col in enumerate(reg.columns):\n",
        "    reg[col] = reg[col].fillna(reg[col].dropna().value_counts().index[0])\n",
        "    if reg[col].dtype=='object':\n",
        "      reg[col]=reg[col].apply(lambda x: str(x).lower())\n",
        "reg['year'] = reg.publication_date.apply(lambda s: int(s[:4])).astype(int)\n",
        "reg['month'] = reg.publication_date.apply(lambda s: int(s[5:7])).astype(int)\n",
        "reg['date'] = reg.publication_date.apply(lambda s: int(s[8:10])).astype(int)\n",
        "reg.drop(['publication_date'], axis=1, inplace=True)\n",
        "OKVED_DIM = 4\n",
        "reg['okved_list'] = reg['okved_list'].str.split('; ')\n",
        "reg['okved_list'] = reg['okved_list'].fillna(\"\").apply(list)\n",
        "okved_categories = reg['okved_list'].explode().dropna().unique()\n",
        "okved_mapping = {k: v for v, k in enumerate(okved_categories, 1)}\n",
        "reg['okved_list'] = reg['okved_list'].apply(lambda x: ([okved_mapping[cat] for cat in x] + [0] * OKVED_DIM)[:OKVED_DIM])\n",
        "for i in range(4):\n",
        "  reg[f'okved_list_{i}']=reg.okved_list.apply(lambda lst: lst[i])\n",
        "reg.drop(['okved_list'], axis=1, inplace=True)"
      ],
      "execution_count": 8,
      "outputs": []
    },
    {
      "cell_type": "code",
      "metadata": {
        "id": "o7PsmvxVrncy"
      },
      "source": [
        "X = reg.set_index('id').join(target.set_index('id'))\n",
        "X_test = X.loc[X.passed.isna()]\n",
        "X = X.dropna(subset=['passed'])"
      ],
      "execution_count": 10,
      "outputs": []
    },
    {
      "cell_type": "code",
      "metadata": {
        "colab": {
          "base_uri": "https://localhost:8080/"
        },
        "id": "LVd93gw0r_3B",
        "outputId": "d90ad8fa-633c-4e45-8338-1bbf2d258501"
      },
      "source": [
        "!pip install catboost"
      ],
      "execution_count": 12,
      "outputs": [
        {
          "output_type": "stream",
          "name": "stdout",
          "text": [
            "Collecting catboost\n",
            "  Downloading catboost-1.0.3-cp37-none-manylinux1_x86_64.whl (76.3 MB)\n",
            "\u001b[K     |████████████████████████████████| 76.3 MB 34 kB/s \n",
            "\u001b[?25hRequirement already satisfied: scipy in /usr/local/lib/python3.7/dist-packages (from catboost) (1.4.1)\n",
            "Requirement already satisfied: numpy>=1.16.0 in /usr/local/lib/python3.7/dist-packages (from catboost) (1.19.5)\n",
            "Requirement already satisfied: graphviz in /usr/local/lib/python3.7/dist-packages (from catboost) (0.10.1)\n",
            "Requirement already satisfied: six in /usr/local/lib/python3.7/dist-packages (from catboost) (1.15.0)\n",
            "Requirement already satisfied: pandas>=0.24.0 in /usr/local/lib/python3.7/dist-packages (from catboost) (1.1.5)\n",
            "Requirement already satisfied: plotly in /usr/local/lib/python3.7/dist-packages (from catboost) (4.4.1)\n",
            "Requirement already satisfied: matplotlib in /usr/local/lib/python3.7/dist-packages (from catboost) (3.2.2)\n",
            "Requirement already satisfied: python-dateutil>=2.7.3 in /usr/local/lib/python3.7/dist-packages (from pandas>=0.24.0->catboost) (2.8.2)\n",
            "Requirement already satisfied: pytz>=2017.2 in /usr/local/lib/python3.7/dist-packages (from pandas>=0.24.0->catboost) (2018.9)\n",
            "Requirement already satisfied: kiwisolver>=1.0.1 in /usr/local/lib/python3.7/dist-packages (from matplotlib->catboost) (1.3.2)\n",
            "Requirement already satisfied: cycler>=0.10 in /usr/local/lib/python3.7/dist-packages (from matplotlib->catboost) (0.11.0)\n",
            "Requirement already satisfied: pyparsing!=2.0.4,!=2.1.2,!=2.1.6,>=2.0.1 in /usr/local/lib/python3.7/dist-packages (from matplotlib->catboost) (2.4.7)\n",
            "Requirement already satisfied: retrying>=1.3.3 in /usr/local/lib/python3.7/dist-packages (from plotly->catboost) (1.3.3)\n",
            "Installing collected packages: catboost\n",
            "Successfully installed catboost-1.0.3\n"
          ]
        }
      ]
    },
    {
      "cell_type": "code",
      "metadata": {
        "colab": {
          "base_uri": "https://localhost:8080/"
        },
        "id": "xS1KzvuUr7yV",
        "outputId": "e24d8fda-2434-4b9d-e3fd-9594ce5763ef"
      },
      "source": [
        "from catboost import CatBoostClassifier\n",
        "model = CatBoostClassifier()\n",
        "model.load_model(\"drive/MyDrive/data/laws/brute\")"
      ],
      "execution_count": 14,
      "outputs": [
        {
          "output_type": "execute_result",
          "data": {
            "text/plain": [
              "<catboost.core.CatBoostClassifier at 0x7fd82773af10>"
            ]
          },
          "metadata": {},
          "execution_count": 14
        }
      ]
    },
    {
      "cell_type": "code",
      "metadata": {
        "id": "q7tv5stRsdlw"
      },
      "source": [
        "result = model.predict_proba(X_test)"
      ],
      "execution_count": 16,
      "outputs": []
    },
    {
      "cell_type": "code",
      "metadata": {
        "id": "bdZl6vkXskrK"
      },
      "source": [
        "submission = pd.read_csv('drive/MyDrive/data/laws/sample_submission.csv')\n",
        "submission.id = X_test.index\n",
        "submission.passed=result\n",
        "submission.passed = 1-submission.passed"
      ],
      "execution_count": 17,
      "outputs": []
    },
    {
      "cell_type": "code",
      "metadata": {
        "id": "kyQS917SsyNI"
      },
      "source": [
        "submission.to_csv('my_submission.csv', index=False)"
      ],
      "execution_count": 19,
      "outputs": []
    },
    {
      "cell_type": "code",
      "metadata": {
        "id": "wvLOpsEJs27h"
      },
      "source": [
        ""
      ],
      "execution_count": null,
      "outputs": []
    }
  ]
}